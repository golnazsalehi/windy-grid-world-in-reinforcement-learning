{
  "nbformat": 4,
  "nbformat_minor": 0,
  "metadata": {
    "colab": {
      "provenance": []
    },
    "kernelspec": {
      "name": "python3",
      "display_name": "Python 3"
    },
    "language_info": {
      "name": "python"
    },
    "gpuClass": "standard",
    "accelerator": "GPU"
  },
  "cells": [
    {
      "cell_type": "code",
      "execution_count": 1,
      "metadata": {
        "colab": {
          "base_uri": "https://localhost:8080/"
        },
        "id": "4VI3PqIi99YN",
        "outputId": "109642a2-ea84-470b-a3be-cf43286875c3"
      },
      "outputs": [
        {
          "output_type": "stream",
          "name": "stdout",
          "text": [
            "Looking in indexes: https://pypi.org/simple, https://us-python.pkg.dev/colab-wheels/public/simple/\n",
            "Collecting gym_gridworlds\n",
            "  Downloading gym_gridworlds-0.0.2-py3-none-any.whl (5.9 kB)\n",
            "Requirement already satisfied: gym in /usr/local/lib/python3.8/dist-packages (from gym_gridworlds) (0.25.2)\n",
            "Requirement already satisfied: numpy in /usr/local/lib/python3.8/dist-packages (from gym_gridworlds) (1.21.6)\n",
            "Requirement already satisfied: importlib-metadata>=4.8.0 in /usr/local/lib/python3.8/dist-packages (from gym->gym_gridworlds) (6.0.0)\n",
            "Requirement already satisfied: gym-notices>=0.0.4 in /usr/local/lib/python3.8/dist-packages (from gym->gym_gridworlds) (0.0.8)\n",
            "Requirement already satisfied: cloudpickle>=1.2.0 in /usr/local/lib/python3.8/dist-packages (from gym->gym_gridworlds) (2.2.1)\n",
            "Requirement already satisfied: zipp>=0.5 in /usr/local/lib/python3.8/dist-packages (from importlib-metadata>=4.8.0->gym->gym_gridworlds) (3.12.1)\n",
            "Installing collected packages: gym_gridworlds\n",
            "Successfully installed gym_gridworlds-0.0.2\n"
          ]
        }
      ],
      "source": [
        "!pip install gym_gridworlds"
      ]
    },
    {
      "cell_type": "code",
      "source": [
        "import gym\n",
        "import copy\n",
        "import numpy as np \n",
        "import gym_gridworlds\n",
        "import random\n",
        "import matplotlib.pyplot as plt\n",
        "import torch\n",
        "from collections import namedtuple, deque\n",
        "import torch.optim as optim\n",
        "import torch.nn as nn\n",
        "import torch.nn.functional as F\n",
        "\n",
        "env = gym.make('WindyGridworld-v0')\n",
        "device = torch.device(\"cuda\" if torch.cuda.is_available() else \"cpu\")\n",
        "device"
      ],
      "metadata": {
        "id": "cVTUG8yh_aAi",
        "colab": {
          "base_uri": "https://localhost:8080/"
        },
        "outputId": "586ec707-20eb-48de-d1f3-1e1edd9cc0d0"
      },
      "execution_count": 2,
      "outputs": [
        {
          "output_type": "stream",
          "name": "stderr",
          "text": [
            "/usr/local/lib/python3.8/dist-packages/gym/core.py:317: DeprecationWarning: \u001b[33mWARN: Initializing wrapper in old step API which returns one bool instead of two. It is recommended to set `new_step_api=True` to use new step API. This will be the default behaviour in future.\u001b[0m\n",
            "  deprecation(\n",
            "/usr/local/lib/python3.8/dist-packages/gym/wrappers/step_api_compatibility.py:39: DeprecationWarning: \u001b[33mWARN: Initializing environment in old step API which returns one bool instead of two. It is recommended to set `new_step_api=True` to use new step API. This will be the default behaviour in future.\u001b[0m\n",
            "  deprecation(\n"
          ]
        },
        {
          "output_type": "execute_result",
          "data": {
            "text/plain": [
              "device(type='cuda')"
            ]
          },
          "metadata": {},
          "execution_count": 2
        }
      ]
    },
    {
      "cell_type": "code",
      "source": [
        "env.reset()\n",
        "I = [i for i in range(0, 7)] \n",
        "J = [i for i in range(0, 10)] \n",
        "A = [(i, j) for i in I for j in J]\n",
        "Actions = ['Down','Right','Up','Left']"
      ],
      "metadata": {
        "id": "Iz0fclmn_bwh",
        "colab": {
          "base_uri": "https://localhost:8080/"
        },
        "outputId": "789418d7-7a5b-434d-d7dd-d9e17c9f1246"
      },
      "execution_count": 3,
      "outputs": [
        {
          "output_type": "stream",
          "name": "stderr",
          "text": [
            "/usr/local/lib/python3.8/dist-packages/gym/utils/passive_env_checker.py:174: UserWarning: \u001b[33mWARN: Future gym versions will require that `Env.reset` can be passed a `seed` instead of using `Env.seed` for resetting the environment random number generator.\u001b[0m\n",
            "  logger.warn(\n",
            "/usr/local/lib/python3.8/dist-packages/gym/utils/passive_env_checker.py:190: UserWarning: \u001b[33mWARN: Future gym versions will require that `Env.reset` can be passed `return_info` to return information from the environment resetting.\u001b[0m\n",
            "  logger.warn(\n",
            "/usr/local/lib/python3.8/dist-packages/gym/utils/passive_env_checker.py:195: UserWarning: \u001b[33mWARN: Future gym versions will require that `Env.reset` can be passed `options` to allow the environment initialisation to be passed additional information.\u001b[0m\n",
            "  logger.warn(\n"
          ]
        }
      ]
    },
    {
      "cell_type": "markdown",
      "source": [
        "#Q-Learning"
      ],
      "metadata": {
        "id": "lMqwBaz9_n55"
      }
    },
    {
      "cell_type": "code",
      "source": [
        "def epsilon_gridy(e,action):\n",
        "  if action == '*':\n",
        "    return 1-e+e/4\n",
        "  else:\n",
        "    return e/4"
      ],
      "metadata": {
        "id": "kAAdo25k_du7"
      },
      "execution_count": 4,
      "outputs": []
    },
    {
      "cell_type": "code",
      "source": [
        "env.reset()\n",
        "alfa = 0.9\n",
        "Gamma = [1, 0.5, 0.1]\n",
        "e = 1 #epsilon, it muse decrease in each epoch\n",
        "decay_rate = 0.005\n",
        "\n",
        "Rewards = []\n",
        "\n",
        "for gamma in Gamma:\n",
        "  Reward = []\n",
        "  e = 1\n",
        "  Q = {(i, j): np.zeros([1,4]) for (i, j) in A} \n",
        "  policy = {(i, j): np.ones([1,4])/4 for (i, j) in A}\n",
        "  for episode in range(500):\n",
        "    env.reset()\n",
        "    R = 0\n",
        "\n",
        "    while True: #epochs\n",
        "\n",
        "      s = env.S #current state\n",
        "\n",
        "      if random.uniform(0,1) < e: # explore\n",
        "        a = np.random.choice(np.arange(0, 4), p = policy[s][0])\n",
        "      else:\n",
        "        a = np.argmax(Q[s][0]) # exploit\n",
        "\n",
        "      q_a = Q[s][0][a] \n",
        "\n",
        "      ns,r,done, info = env.step(a)\n",
        "      na = np.argmax(policy[ns]) # ns = S', na = A', n_q_a = Q(S',A')\n",
        "      n_q_a = Q[ns][0][na]\n",
        "\n",
        "      if done == True: # check if we've got to the destination\n",
        "        r = 0\n",
        "        Q[s][0][a] = q_a + alfa*(r + gamma*n_q_a - q_a)\n",
        "        break\n",
        "      \n",
        "      Q[s][0][a] = q_a + alfa*(r + gamma*n_q_a - q_a)\n",
        "      R += r\n",
        "    Reward.append(R)\n",
        "\n",
        "    for (i, j) in A:\n",
        "      best_action = np.argmax(Q[i,j][0])\n",
        "      for a_ in range(4):\n",
        "        if a_ == best_action:\n",
        "          policy[i,j][0][a_] = epsilon_gridy(e,'*')\n",
        "        else:\n",
        "          policy[i,j][0][a_] = epsilon_gridy(e,' ')\n",
        "    if e > 0.05:\n",
        "      e = e - decay_rate \n",
        "  Rewards.append(Reward)\n",
        "#--------------------------------------\n",
        "  if gamma == 1:\n",
        "    env.reset()\n",
        "    while True: #epochs\n",
        "      s = env.S #current state\n",
        "      print('s =',s)\n",
        "      a = np.argmax(policy[s])\n",
        "      print(Actions[a])\n",
        "      ns,r,done, info = env.step(a)\n",
        "      if ns == (3,7): # check if we've got to the destination\n",
        "        print('s =',ns)\n",
        "        break\n",
        "  # print('-------------------------------')\n",
        "#--------------------------------------\n"
      ],
      "metadata": {
        "id": "YjZVwqIg_qFi",
        "colab": {
          "base_uri": "https://localhost:8080/"
        },
        "outputId": "34a75455-fc95-4e27-918d-b6ce3e483912"
      },
      "execution_count": 6,
      "outputs": [
        {
          "output_type": "stream",
          "name": "stdout",
          "text": [
            "s = (3, 0)\n",
            "Right\n",
            "s = (3, 1)\n",
            "Right\n",
            "s = (3, 2)\n",
            "Right\n",
            "s = (3, 3)\n",
            "Right\n",
            "s = (2, 4)\n",
            "Right\n",
            "s = (1, 5)\n",
            "Right\n",
            "s = (0, 6)\n",
            "Right\n",
            "s = (0, 7)\n",
            "Right\n",
            "s = (0, 8)\n",
            "Right\n",
            "s = (0, 9)\n",
            "Up\n",
            "s = (1, 9)\n",
            "Up\n",
            "s = (2, 9)\n",
            "Up\n",
            "s = (3, 9)\n",
            "Up\n",
            "s = (4, 9)\n",
            "Left\n",
            "s = (4, 8)\n",
            "Left\n",
            "s = (3, 7)\n"
          ]
        }
      ]
    },
    {
      "cell_type": "code",
      "source": [
        "fig, ax = plt.subplots(1,3,figsize=(10, 6))\n",
        "c = ['r','g','b']\n",
        "ep = np.arange(50)\n",
        "for f in range(3):\n",
        "  ax[f].bar(ep, Rewards[f][0:50], label = f'discount factor ={Gamma[f]}',color = c[f])\n",
        "  ax[f].grid()\n",
        "  ax[f].legend()"
      ],
      "metadata": {
        "colab": {
          "base_uri": "https://localhost:8080/",
          "height": 378
        },
        "id": "s-iv9QemV3Zy",
        "outputId": "f111977b-f25b-488c-dfe7-c05bdb1df1f9"
      },
      "execution_count": null,
      "outputs": [
        {
          "output_type": "display_data",
          "data": {
            "text/plain": [
              "<Figure size 720x432 with 3 Axes>"
            ],
            "image/png": "[encoded data removed]"
          },
          "metadata": {
            "needs_background": "light"
          }
        }
      ]
    },
    {
      "cell_type": "markdown",
      "source": [
        "#Actor-Critic"
      ],
      "metadata": {
        "id": "fRL7NEYGAMXJ"
      }
    },
    {
      "cell_type": "code",
      "source": [
        "def Policy_calculator(P,whole):\n",
        "  Sum = 0\n",
        "  for p in whole: \n",
        "    Sum = Sum + np.exp(p)\n",
        "  return np.exp(P)/Sum"
      ],
      "metadata": {
        "id": "jeOCXf47_wBo"
      },
      "execution_count": null,
      "outputs": []
    },
    {
      "cell_type": "code",
      "source": [
        "env.reset()\n",
        "policy = {(i, j): np.ones([1,4])/4 for (i, j) in A}\n",
        "V = {(i, j): 0 for (i, j) in A} \n",
        "P = {(i, j): np.ones([1,4])/4 for (i, j) in A}\n",
        "\n",
        "beta = 2**-3\n",
        "alfa = 2**-2\n",
        "gamma = 1\n",
        "Reward = []\n",
        "for loop in range(500):\n",
        "  env.reset()\n",
        "  R = 0\n",
        "  while True: #epochs\n",
        "    s = env.S \n",
        "    a = np.random.choice(np.arange(0, 4), p = policy[s][0])\n",
        "    ns,r,done, info = env.step(a)\n",
        "\n",
        "    if done == True: \n",
        "      r = 0\n",
        "    R += r\n",
        "    error = r + gamma*V[ns] - V[s]\n",
        "    P[s][0][a] = P[s][0][a] + beta*error\n",
        "    V[s] = V[s] + alfa*error\n",
        "    for a_ in range(4):\n",
        "      policy[s][0][a_] = Policy_calculator(P[s][0][a_],P[s][0])\n",
        "    if done == True:\n",
        "      Reward.append(R)\n",
        "      break\n",
        "#--------------------------------------\n",
        "env.reset()\n",
        "while True: #epochs\n",
        "  s = env.S #current state\n",
        "  print('s =',s)\n",
        "  a = np.argmax(policy[s])\n",
        "  print(Actions[a])\n",
        "  ns,r,done, info = env.step(a)\n",
        "  if ns == (3,7): # check if we've got to the destination\n",
        "    print('s =',ns)\n",
        "    break\n",
        "#--------------------------------------\n",
        "fig, ax = plt.subplots(1,2,figsize=(10, 6))\n",
        "\n",
        "ax[0].bar(ep, Reward[0:50], label ='Actor- Critic')\n",
        "ax[0].grid()\n",
        "ax[0].legend()\n",
        "\n",
        "ax[1].bar(ep, Rewards[0][0:50], label = f'Q-learning with discount factor ={Gamma[0]}',color = 'r')\n",
        "ax[1].grid()\n",
        "ax[1].legend()\n"
      ],
      "metadata": {
        "colab": {
          "base_uri": "https://localhost:8080/",
          "height": 957
        },
        "id": "aEOi2rQhAV7E",
        "outputId": "6ffeeb84-f11e-47e5-fab7-c5a71821b348"
      },
      "execution_count": null,
      "outputs": [
        {
          "output_type": "stream",
          "name": "stdout",
          "text": [
            "s = (3, 0)\n",
            "Right\n",
            "s = (3, 1)\n",
            "Right\n",
            "s = (3, 2)\n",
            "Right\n",
            "s = (3, 3)\n",
            "Right\n",
            "s = (2, 4)\n",
            "Right\n",
            "s = (1, 5)\n",
            "Right\n",
            "s = (0, 6)\n",
            "Right\n",
            "s = (0, 7)\n",
            "Right\n",
            "s = (0, 8)\n",
            "Right\n",
            "s = (0, 9)\n",
            "Up\n",
            "s = (1, 9)\n",
            "Up\n",
            "s = (2, 9)\n",
            "Up\n",
            "s = (3, 9)\n",
            "Up\n",
            "s = (4, 9)\n",
            "Left\n",
            "s = (4, 8)\n",
            "Left\n",
            "s = (3, 7)\n"
          ]
        },
        {
          "output_type": "execute_result",
          "data": {
            "text/plain": [
              "<matplotlib.legend.Legend at 0x7f9a0da90160>"
            ]
          },
          "metadata": {},
          "execution_count": 26
        },
        {
          "output_type": "display_data",
          "data": {
            "text/plain": [
              "<Figure size 720x432 with 2 Axes>"
            ],
            "image/png": "[encoded data removed]"
          },
          "metadata": {
            "needs_background": "light"
          }
        }
      ]
    },
    {
      "cell_type": "markdown",
      "source": [
        "#DQN"
      ],
      "metadata": {
        "id": "HUgjiKVIbpbK"
      }
    },
    {
      "cell_type": "code",
      "source": [
        "# experience replay\n",
        "\n",
        "class ExperienceReplay():\n",
        "    Transition = namedtuple('Transition',\n",
        "                        field_names=[\"state\", \"action\", \"reward\", \"next_state\", \"done\"])\n",
        "    def __init__(self, capacity) -> None:\n",
        "        self.memory = deque([], maxlen=capacity)\n",
        "        \n",
        "    def store_trans(self, s, a, sp, r, done):\n",
        "        t = self.Transition(s,a,sp,r,done)\n",
        "        self.memory.append(t)\n",
        "        \n",
        "\n",
        "    def sample(self, batch_size):\n",
        "        T = random.sample(self.memory, k=batch_size) # taking k transitions randomly from the memory\n",
        "        \n",
        "        # transform numpy arrays to vertical PyTorch tensors with torch.from_numpy on GPU\n",
        "        \n",
        "        S = torch.from_numpy(np.vstack([t.state for t in T if t is not None])).float().to(device) \n",
        "\n",
        "        A = torch.from_numpy(np.vstack([t.action for t in T if t is not None])).long().to(device)\n",
        "\n",
        "        R = torch.from_numpy(np.vstack([t.reward for t in T if t is not None])).float().to(device)\n",
        "\n",
        "        NS = torch.from_numpy(np.vstack([t.next_state for t in T if t is not None])).float().to(device)\n",
        "\n",
        "        D = torch.from_numpy(np.vstack([t.done for t in T if t is not None]).astype(np.uint8)).float().to(device)\n",
        "  \n",
        "        return (S,A,R,NS,D)\n",
        "\n",
        "    def __len__(self):\n",
        "        return len(self.memory)"
      ],
      "metadata": {
        "id": "vqrZVUTMapcC"
      },
      "execution_count": null,
      "outputs": []
    },
    {
      "cell_type": "code",
      "source": [
        "#DQN\n",
        "class DeepQNetwork(nn.Module):\n",
        "    def __init__(self, state_size, action_size) -> None:\n",
        "        super(DeepQNetwork, self).__init__()\n",
        "\n",
        "        self.h1 = nn.Linear(state_size, 128)\n",
        "        self.h2 = nn.Linear(128,64)\n",
        "        self.out = nn.Linear(64, action_size)\n",
        "        \n",
        "\n",
        "    def forward(self, x):\n",
        "        x = F.relu(self.h1(x))\n",
        "        x = F.relu(self.h2(x))\n",
        "        estimate_Q = self.out(x)\n",
        "        return estimate_Q"
      ],
      "metadata": {
        "id": "vpko00Dkb8dI"
      },
      "execution_count": null,
      "outputs": []
    },
    {
      "cell_type": "code",
      "source": [
        "# DDQN agent\n",
        "    \n",
        "class DDQNAgent():\n",
        "    # NOTE: DON'T change initial values\n",
        "    def __init__(self, state_size, action_size, batch_size,gamma=0.99, buffer_size=25000, alpha=1e-4):\n",
        "        # network parameter\n",
        "        self.state_size = state_size\n",
        "        self.action_size = action_size\n",
        "\n",
        "        # hyperparameters\n",
        "        self.batch_size = batch_size\n",
        "        self.gamma = gamma\n",
        "\n",
        "        # experience replay\n",
        "        self.experience_replay = ExperienceReplay(buffer_size)\n",
        "\n",
        "        # network\n",
        "        self.value_net = DeepQNetwork(state_size, action_size).to(device)\n",
        "        self.target_net = DeepQNetwork(state_size, action_size).to(device)\n",
        "        # optimizer\n",
        "        self.optimizer = optim.Adam(self.value_net.parameters(),lr=alpha)  \n",
        "\n",
        "    def take_action(self, state, eps=0.0):\n",
        "\n",
        "        state = torch.from_numpy(state).float().unsqueeze(0).to(device)\n",
        "        self.value_net.eval() \n",
        "        with torch.no_grad(): # disabled gradient calculation to reduce memory consumption for computations\n",
        "            action_values = self.value_net(state)\n",
        "        self.value_net.train()\n",
        "\n",
        "        \n",
        "        if random.random() > eps: #exploit\n",
        "            return np.argmax(action_values.cpu().data.numpy())\n",
        "        else:#explore\n",
        "            return random.choice(np.arange(self.action_size))\n",
        "\n",
        "    def update_params(self):\n",
        "        if len(self.experience_replay) < self.batch_size:\n",
        "            return\n",
        "        # transition batch\n",
        "\n",
        "        state_batch, action_batch, next_state_batch, reward_batch,done_batch  = self.experience_replay.sample(self.batch_size)\n",
        "\n",
        "\n",
        "        Q_expected = self.value_net(state_batch).gather(1, action_batch)\n",
        "        best_choice = self.target_net(next_state_batch).detach().max(1)[0].unsqueeze(1)\n",
        "        y = reward_batch + self.gamma*(best_choice)*(1-done_batch) \n",
        "        loss = F.mse_loss(Q_expected,y)\n",
        "\n",
        "        self.optimizer.zero_grad()\n",
        "        loss.backward() \n",
        "        self.optimizer.step()              \n",
        "        # ------------------- update target network ------------------- #\n",
        "        self.update_target_network(tau = 1e-3)\n",
        "\n",
        "    def update_target_network(self,tau):\n",
        "        for target_param, local_param in zip(self.target_net.parameters(), self.value_net.parameters()):\n",
        "          target_param.data.copy_(tau*local_param.data + (1.0-tau)*target_param.data)"
      ],
      "metadata": {
        "id": "FpP4lcEZcEj3"
      },
      "execution_count": null,
      "outputs": []
    },
    {
      "cell_type": "code",
      "source": [
        "action_size = env.action_space.n  \n",
        "state_size = len(list(env.observation_space))"
      ],
      "metadata": {
        "id": "1LVSVVercHBQ"
      },
      "execution_count": null,
      "outputs": []
    },
    {
      "cell_type": "code",
      "source": [
        "# training phase\n",
        "def DDQN(BS):\n",
        "  agent = DDQNAgent(state_size,action_size,batch_size=BS,gamma=0.99,buffer_size=25000,alpha=1e-4)\n",
        "\n",
        "  n_episodes = 200\n",
        "\n",
        "  eps = 1.0\n",
        "\n",
        "  crs = [] # cummulative rewards\n",
        "  crs_recent = deque(maxlen=25) # recent cummulative rewards\n",
        "\n",
        "  # training loop\n",
        "  for i_episode in range(1, n_episodes+1):\n",
        "      state = env.reset()\n",
        "      done=0  \n",
        "      cr = 0 # episode cummulative rewards\n",
        "      while not done:\n",
        "          state = np.array(state)\n",
        "          action = agent.take_action(state, eps)\n",
        "          next_state, reward, done,info  = env.step(action)\n",
        "          agent.experience_replay.store_trans(state,action,next_state,reward,done)\n",
        "          agent.update_params()\n",
        "          state = next_state\n",
        "          cr += reward\n",
        "      if eps > 0.01:\n",
        "        eps = 0.99*eps\n",
        "      crs_recent.append(cr)      \n",
        "      crs.append(cr)\n",
        "\n",
        "      print('\\rEpisode {}\\tAverage Reward: {:.2f}\\tEpsilon: {:.2f}'.format(i_episode, np.mean(crs_recent), eps), end=\"\")\n",
        "      if i_episode % 25 == 0:\n",
        "          print('\\rEpisode {}\\tAverage Reward: {:.2f}\\tEpsilon: {:.2f}'.format(i_episode, np.mean(crs_recent), eps))\n",
        "      \n",
        "  plt.bar(np.arange(len(crs)),crs,label = \"Cummulative Rewards\")\n",
        "  plt.title(f'Batch Size = {BS}')\n",
        "  plt.ylabel('Score')\n",
        "  plt.xlabel('#Episode')\n",
        "  plt.legend(loc='lower right')\n",
        "  plt.show()\n",
        "\n",
        "  return agent,eps, crs"
      ],
      "metadata": {
        "id": "FTd3L5ENcJG7"
      },
      "execution_count": null,
      "outputs": []
    },
    {
      "cell_type": "code",
      "source": [
        "agent,eps,crs = DDQN(64)"
      ],
      "metadata": {
        "colab": {
          "base_uri": "https://localhost:8080/",
          "height": 440
        },
        "id": "jdtj-5luceqz",
        "outputId": "299ae0c5-e2df-4613-821c-411ccd31bc10"
      },
      "execution_count": null,
      "outputs": [
        {
          "output_type": "stream",
          "name": "stdout",
          "text": [
            "Episode 25\tAverage Reward: -970.96\tEpsilon: 0.78\n",
            "Episode 50\tAverage Reward: -84.16\tEpsilon: 0.61\n",
            "Episode 75\tAverage Reward: -56.56\tEpsilon: 0.47\n",
            "Episode 100\tAverage Reward: -39.80\tEpsilon: 0.37\n",
            "Episode 125\tAverage Reward: -27.92\tEpsilon: 0.28\n",
            "Episode 150\tAverage Reward: -21.08\tEpsilon: 0.22\n",
            "Episode 175\tAverage Reward: -21.24\tEpsilon: 0.17\n",
            "Episode 200\tAverage Reward: -19.68\tEpsilon: 0.13\n"
          ]
        },
        {
          "output_type": "display_data",
          "data": {
            "text/plain": [
              "<Figure size 432x288 with 1 Axes>"
            ],
            "image/png": "[encoded data removed]"
          },
          "metadata": {
            "needs_background": "light"
          }
        }
      ]
    },
    {
      "cell_type": "code",
      "source": [
        "env.reset()\n",
        "while True: #epochs\n",
        "  s = env.S #current state\n",
        "  state = np.array(s)\n",
        "  action = agent.take_action(state, eps)\n",
        "  next_state, reward, done,info  = env.step(action)\n",
        "\n",
        "  print('s =',s)\n",
        "  print(Actions[action])\n",
        "  if next_state == (3,7): # check if we've got to the destination\n",
        "    print('s =',next_state)\n",
        "    break"
      ],
      "metadata": {
        "colab": {
          "base_uri": "https://localhost:8080/"
        },
        "id": "vI3KoSiGcRJW",
        "outputId": "4cc1e001-7b92-46a5-8e7a-801c22d39a73"
      },
      "execution_count": null,
      "outputs": [
        {
          "output_type": "stream",
          "name": "stdout",
          "text": [
            "s = (3, 0)\n",
            "Right\n",
            "s = (3, 1)\n",
            "Right\n",
            "s = (3, 2)\n",
            "Right\n",
            "s = (3, 3)\n",
            "Right\n",
            "s = (2, 4)\n",
            "Right\n",
            "s = (1, 5)\n",
            "Right\n",
            "s = (0, 6)\n",
            "Right\n",
            "s = (0, 7)\n",
            "Right\n",
            "s = (0, 8)\n",
            "Right\n",
            "s = (0, 9)\n",
            "Up\n",
            "s = (1, 9)\n",
            "Up\n",
            "s = (2, 9)\n",
            "Up\n",
            "s = (3, 9)\n",
            "Up\n",
            "s = (4, 9)\n",
            "Left\n",
            "s = (4, 8)\n",
            "Left\n",
            "s = (3, 7)\n"
          ]
        }
      ]
    },
    {
      "cell_type": "code",
      "source": [
        "fig, ax = plt.subplots(1,3,figsize=(10, 6))\n",
        "\n",
        "ax[1].bar(ep, Reward[0:50], label ='Actor- Critic')\n",
        "ax[1].grid()\n",
        "ax[1].legend()\n",
        "\n",
        "ax[2].bar(ep, Rewards[0][0:50], label = f'Q-learning with discount factor ={Gamma[0]}',color = 'r')\n",
        "ax[2].grid()\n",
        "ax[2].legend()\n",
        "\n",
        "ax[0].bar(ep, crs[0:50], label ='Double Deep Q-Netwoek',color = 'g')\n",
        "ax[0].grid()\n",
        "ax[0].legend()"
      ],
      "metadata": {
        "colab": {
          "base_uri": "https://localhost:8080/",
          "height": 396
        },
        "id": "KpM_4RovjnIR",
        "outputId": "4d3e0811-d8f3-43d5-e6e6-a83eff766210"
      },
      "execution_count": null,
      "outputs": [
        {
          "output_type": "execute_result",
          "data": {
            "text/plain": [
              "<matplotlib.legend.Legend at 0x7f9a0deeaac0>"
            ]
          },
          "metadata": {},
          "execution_count": 25
        },
        {
          "output_type": "display_data",
          "data": {
            "text/plain": [
              "<Figure size 720x432 with 3 Axes>"
            ],
            "image/png": "[encoded data removed]"
          },
          "metadata": {
            "needs_background": "light"
          }
        }
      ]
    }
  ]
}