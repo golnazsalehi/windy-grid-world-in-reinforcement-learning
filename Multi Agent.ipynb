{
  "cells": [
    {
      "cell_type": "code",
      "execution_count": 1,
      "metadata": {
        "id": "6017f8d3"
      },
      "outputs": [],
      "source": [
        "from __future__ import print_function\n",
        "import numpy as np\n",
        "import gym\n",
        "from gym import spaces\n",
        "import sys\n",
        "from IPython.display import clear_output\n",
        "from time import sleep\n",
        "import torch\n",
        "class MultiWindyGridWorldEnv(gym.Env):\n",
        "    '''Creates the Windy GridWorld Environment'''\n",
        "    def __init__(self, GRID_HEIGHT=7, GRID_WIDTH=10,\\\n",
        "                 WIND = [0, 0, 0, 1, 1, 1, 2, 2, 1, 0], \\\n",
        "                 START_STATE_1 = (3, 0), START_STATE_2 = (3, 0), GOAL_STATE = (3, 7),\\\n",
        "                 REWARD = -0.5):\n",
        "        self.grid_height = GRID_HEIGHT\n",
        "        self.grid_width = GRID_WIDTH\n",
        "        self.wind = WIND\n",
        "        \n",
        "        self.start_state_1 = START_STATE_1\n",
        "        self.start_state_2 = START_STATE_2 #<--\n",
        "        \n",
        "        self.goal_state = GOAL_STATE\n",
        "        self.reward = REWARD\n",
        "        \n",
        "        self.action_space =  spaces.Discrete(4)\n",
        "        self.observation_1 = START_STATE_1\n",
        "        self.observation_2 = START_STATE_2\n",
        "#         self.observation_space_1 = spaces.Tuple((spaces.Discrete(self.grid_height),spaces.Discrete(self.grid_width)))\n",
        "#         self.observation_space_2 = spaces.Tuple((spaces.Discrete(self.grid_height),spaces.Discrete(self.grid_width))) #<--\n",
        "\n",
        "        self.actions = { 'U':0,   #up\n",
        "                         'R':1,   #right\n",
        "                         'D':2,   #down\n",
        "                         'L':3,  #left\n",
        "                         'N':4 } # no movement\n",
        "        # set up destinations for each action in each state\n",
        "        self.action_destination_1 = np.empty((self.grid_height,self.grid_width), dtype=dict) \n",
        "        for i in range(0, self.grid_height):\n",
        "            for j in range(0, self.grid_width):\n",
        "                destination = dict()\n",
        "                destination[self.actions['U']] = (max(i - 1 - self.wind[j], 0), j)\n",
        "                destination[self.actions['D']] = (max(min(i + 1 - self.wind[j], \\\n",
        "                                                    self.grid_height - 1), 0), j)\n",
        "                destination[self.actions['L']] = (max(i - self.wind[j], 0),\\\n",
        "                                                       max(j - 1, 0))\n",
        "                destination[self.actions['R']] = (max(i - self.wind[j], 0),\\\n",
        "                                                   min(j + 1, self.grid_width - 1))\n",
        "                destination[self.actions['N']] = (i,j)\n",
        "                self.action_destination_1[i,j]=destination\n",
        "        \n",
        "        self.action_destination_2 = np.empty((self.grid_height,self.grid_width), dtype=dict) #<--\n",
        "        for i in range(0, self.grid_height):\n",
        "            for j in range(0, self.grid_width):\n",
        "                destination = dict()\n",
        "                destination[self.actions['U']] = (max(i - 1 - self.wind[j], 0), j)\n",
        "                destination[self.actions['D']] = (max(min(i + 1 - self.wind[j], \\\n",
        "                                                    self.grid_height - 1), 0), j)\n",
        "                destination[self.actions['L']] = (max(i - self.wind[j], 0),\\\n",
        "                                                       max(j - 1, 0))\n",
        "                destination[self.actions['R']] = (max(i - self.wind[j], 0),\\\n",
        "                                                   min(j + 1, self.grid_width - 1))\n",
        "                destination[self.actions['N']] = (i,j)\n",
        "                \n",
        "                self.action_destination_2[i,j]=destination       \n",
        "    \n",
        "        self.nA = len(self.actions)        \n",
        "    \n",
        "    def step(self, action1,action2 ):\n",
        "        reward = -1\n",
        "\n",
        "        #assert self.action_space.contains(action1,action2)\n",
        "        self.observation_1 = self.action_destination_1[self.observation_1][action1]\n",
        "        self.observation_2 = self.action_destination_2[self.observation_2][action2]\n",
        "        done1 = False\n",
        "        done2 = False\n",
        "        if self.observation_1 == self.goal_state:\n",
        "            done1 = True\n",
        "        if self.observation_2 == self.goal_state:\n",
        "            done2 = True\n",
        "        \n",
        "        if done2 == True or done1 == True:\n",
        "            reward = -0.5\n",
        "        \n",
        "        if done2 == True and done1 == True:\n",
        "            reward =  10\n",
        "\n",
        "        elif self.sqr_dist(self.observation_1, self.observation_2)==0: #or self.sqr_dist(self.observation_1, self.observation_2)>3:\n",
        "            reward = -10\n",
        "            \n",
        "        #done = done1 and done2\n",
        "        return self.observation_1, self.observation_2, reward, done1, done2\n",
        "        \n",
        "    def reset(self):\n",
        "        ''' resets the agent position back to the starting position'''\n",
        "        self.observation_1 = self.start_state_1\n",
        "        self.observation_2 = self.start_state_2\n",
        "        return self.observation_1, self.observation_2\n",
        "    \n",
        "    def sqr_dist(self, pos1, pos2):\n",
        "        return (pos1[0]-pos2[0])*(pos1[0]-pos2[0])+(pos1[1]-pos2[1])*(pos1[1]-pos2[1])\n",
        "    \n",
        "    def render(self, mode='human', close=False):\n",
        "\n",
        "        outfile = sys.stdout\n",
        "        nS = self.grid_height * self.grid_width\n",
        "        shape = (self.grid_height, self. grid_width)\n",
        "\n",
        "        outboard = \"\"\n",
        "        for y in range(-1, self.grid_height + 1):\n",
        "            outline = \"\"\n",
        "            for x in range(-1, self.grid_width + 1):\n",
        "                position = (y, x)\n",
        "                if self.observation_1 == position:\n",
        "                    output = \"A\"\n",
        "                elif self.observation_2 == position:\n",
        "                    output = \"B\"\n",
        "                elif position == self.goal_state:\n",
        "                    output = \"G\"\n",
        "#                 elif position == self.start_state_1:\n",
        "#                     output = \"S1\"\n",
        "#                 elif position == self.start_state_2:\n",
        "#                     output = \"S2\"\n",
        "                elif x in {-1, self.grid_width } or y in {-1, self.grid_height}:\n",
        "                    output = \"#\"\n",
        "                else:\n",
        "                    output = \" \"\n",
        "\n",
        "                if position[1] == shape[1]:\n",
        "                    output += '\\n'\n",
        "                outline += output\n",
        "            outboard += outline\n",
        "        outboard += '\\n'\n",
        "        outfile.write(outboard)\n",
        "\n",
        "    def seed(self, seed=None):\n",
        "        pass"
      ],
      "id": "6017f8d3"
    },
    {
      "cell_type": "code",
      "source": [
        "device = torch.device(\"cuda\" if torch.cuda.is_available() else \"cpu\")\n",
        "device"
      ],
      "metadata": {
        "colab": {
          "base_uri": "https://localhost:8080/"
        },
        "id": "66NOurRyOl3U",
        "outputId": "ec335d17-aa32-4f87-c822-55fec52d26f4"
      },
      "id": "66NOurRyOl3U",
      "execution_count": 2,
      "outputs": [
        {
          "output_type": "execute_result",
          "data": {
            "text/plain": [
              "device(type='cuda')"
            ]
          },
          "metadata": {},
          "execution_count": 2
        }
      ]
    },
    {
      "cell_type": "markdown",
      "source": [
        "# Friend-or-Feo"
      ],
      "metadata": {
        "id": "hLGVnGR6U5XO"
      },
      "id": "hLGVnGR6U5XO"
    },
    {
      "cell_type": "code",
      "source": [
        "class FOF_agent:\n",
        "    def __init__(self, numStates1, numStates2, numActionsA=5, numActionsB=5, decay=0.999, eps=1, gamma=1):\n",
        "        \n",
        "        self.decay = decay\n",
        "        self.eps = eps\n",
        "        self. stationary_eps = eps\n",
        "        self.gamma = gamma\n",
        "        self.alpha = 0.8\n",
        "        self.V = np.ones([numStates1,numStates2])\n",
        "        self.Q = np.zeros((numStates1,numStates2, numActionsA, numActionsB))\n",
        "        self.numActionsA = numActionsA\n",
        "        self.numActionsB = numActionsB\n",
        "            \n",
        "    def chooseAction(self, state, agent, doneA,doneB):\n",
        "        if agent == 'A' and doneB and not doneA:\n",
        "            action = self.select(state, agent, self.stationary_eps)\n",
        "            return action\n",
        "        \n",
        "        elif agent == 'B' and doneA and not doneB:\n",
        "            action = self.select(state, agent, self.stationary_eps)\n",
        "            return action\n",
        "        else:\n",
        "            action = self.select(state, agent, self.eps)\n",
        "            return action\n",
        "\n",
        "    def updateQ(self, s, s_prime, actions, reward):\n",
        "\n",
        "        actionA, actionB = actions\n",
        "        s1 = s[0]\n",
        "        s2 = s[1]\n",
        "        ns1 = s_prime[0]\n",
        "        ns2 = s_prime[1]\n",
        "        \n",
        "        self.Q[s1, s2, actionA, actionB] = (1 - self.alpha) * self.Q[s1, s2, actionA, actionB] + \\\n",
        "            self.alpha * (reward + self.gamma * self.V[ns1,ns2])\n",
        "        \n",
        "        self.V[s1,s2] = np.max(self.Q[s1,s2])\n",
        "        \n",
        "        \n",
        "    def select(self, state, agent, eps):\n",
        "        if np.random.rand() < eps:\n",
        "            action = np.random.randint(4)\n",
        "            return action\n",
        "        else:\n",
        "            s1 = state[0]\n",
        "            s2 = state[1]\n",
        "            if agent == 'A':\n",
        "                return np.unravel_index(np.argmax(self.Q[s1,s2]), self.Q[s1,s2].shape)[0]\n",
        "            if agent == 'B':\n",
        "                return np.unravel_index(np.argmax(self.Q[s1,s2]), self.Q[s1,s2].shape)[1]   \n",
        "   "
      ],
      "metadata": {
        "id": "Vjery6mtOpWX"
      },
      "id": "Vjery6mtOpWX",
      "execution_count": null,
      "outputs": []
    },
    {
      "cell_type": "code",
      "execution_count": null,
      "metadata": {
        "colab": {
          "base_uri": "https://localhost:8080/"
        },
        "id": "4657f214",
        "scrolled": true,
        "outputId": "61f89225-0dc8-4bd1-adf1-b70c69d592d5"
      },
      "outputs": [
        {
          "output_type": "stream",
          "name": "stdout",
          "text": [
            "100\n",
            "200\n"
          ]
        }
      ],
      "source": [
        "env = MultiWindyGridWorldEnv()\n",
        "AgentA = FOF_agent(numStates1 = 7, numStates2 = 10)\n",
        "AgentB = FOF_agent(numStates1 = 7, numStates2 = 10)\n",
        "\n",
        "n_episodes = 200\n",
        "Reward_FOF = []\n",
        "for i_episode in range(1, n_episodes+1):\n",
        "\n",
        "    stateA, stateB = env.reset()\n",
        "    stateA = np.array(stateA)\n",
        "    stateB = np.array(stateB)\n",
        "    done = False\n",
        "    done1, done2 = False, False\n",
        "    R = 0\n",
        "    while not done:\n",
        "        if not done1:\n",
        "            actionA = AgentA.chooseAction(stateA, 'A', done1, done2)\n",
        "        elif done1: \n",
        "            actionA = 4\n",
        "\n",
        "        if not done2:\n",
        "            actionB = AgentB.chooseAction(stateB, 'B', done1, done2)\n",
        "        elif done2: \n",
        "            actionB = 4\n",
        "\n",
        "        next_stateA, next_stateB, reward, done1, done2 = env.step(actionA,actionB)\n",
        "\n",
        "        next_stateA = np.array(next_stateA)\n",
        "        next_stateB = np.array(next_stateB)\n",
        "        \n",
        "        \n",
        "        if actionB != 4:\n",
        "            AgentB.updateQ(stateB, next_stateB, [np.random.randint(4), actionB], reward)\n",
        "        if actionA != 4: \n",
        "            AgentA.updateQ(stateA, next_stateA, [actionA, np.random.randint(4)], reward)\n",
        "            \n",
        "        stateA = next_stateA\n",
        "        stateB = next_stateB\n",
        "        \n",
        "        done = done1 and done2\n",
        "        R += reward\n",
        "    Reward_FOF.append(R)\n",
        "    if AgentA.eps > 0.05:\n",
        "            AgentA.eps *= 0.995\n",
        "    if AgentB.eps > 0.05:\n",
        "            AgentB.eps *= 0.995 \n",
        "            \n",
        "    if AgentA.stationary_eps > 0.05:\n",
        "            AgentA.stationary_eps *= 0.995\n",
        "    if AgentB.stationary_eps > 0.05:\n",
        "            AgentB.stationary_eps *= 0.995\n",
        "\n",
        "    AgentA.alpha *= AgentA.decay\n",
        "    AgentB.alpha *= AgentB.decay\n",
        "\n",
        "    if i_episode%100 == 0:\n",
        "      print(i_episode)"
      ],
      "id": "4657f214"
    },
    {
      "cell_type": "code",
      "source": [
        "import matplotlib.pyplot as plt\n",
        "fig, ax = plt.subplots(1,1,figsize=(10, 6))\n",
        "\n",
        "ax.bar(np.arange(len(Reward_FOF)), Reward_FOF, label ='Freiend-or_Feo')\n",
        "ax.grid()\n",
        "ax.legend()\n"
      ],
      "metadata": {
        "colab": {
          "base_uri": "https://localhost:8080/",
          "height": 396
        },
        "id": "N_2rnSkLsrjo",
        "outputId": "6431f1d1-0b08-48d8-b37b-b2d12926eaaf"
      },
      "id": "N_2rnSkLsrjo",
      "execution_count": null,
      "outputs": [
        {
          "output_type": "execute_result",
          "data": {
            "text/plain": [
              "<matplotlib.legend.Legend at 0x7f66851ba670>"
            ]
          },
          "metadata": {},
          "execution_count": 20
        },
        {
          "output_type": "display_data",
          "data": {
            "text/plain": [
              "<Figure size 720x432 with 1 Axes>"
            ],
            "image/png": "[encoded data removed]"
          },
          "metadata": {
            "needs_background": "light"
          }
        }
      ]
    },
    {
      "cell_type": "code",
      "execution_count": null,
      "metadata": {
        "id": "a4f8566a",
        "outputId": "85b67b85-5556-44f6-9af2-153a75a72d9b",
        "colab": {
          "base_uri": "https://localhost:8080/"
        }
      },
      "outputs": [
        {
          "output_type": "stream",
          "name": "stdout",
          "text": [
            "############\n",
            "#          #\n",
            "#          #\n",
            "#          #\n",
            "#       A  #\n",
            "#          #\n",
            "#          #\n",
            "#          #\n",
            "############\n",
            "\n"
          ]
        }
      ],
      "source": [
        "stateA, stateB = env.reset()\n",
        "stateA = np.array(stateA)\n",
        "stateB = np.array(stateB)\n",
        "done1, done2 = False, False\n",
        "\n",
        "while True: #epochs\n",
        "    if done1 == False:\n",
        "        #actionA = np.unravel_index(np.argmax(AgentA.Q[stateA[0],stateA[1]]), AgentA.Q[stateA[0],stateA[1]].shape)[0]\n",
        "        actionA = AgentA.chooseAction(stateA, 'A', done1, done2)\n",
        "    else: \n",
        "        actionA = 4\n",
        "\n",
        "    if done2 == False:\n",
        "        #actionB = np.unravel_index(np.argmax(AgentB.Q[stateB[0],stateB[1]]), AgentB.Q[stateB[0],stateB[1]].shape)[1]\n",
        "        actionB = AgentB.chooseAction(stateB, 'B', done1, done2)\n",
        "    else: \n",
        "        actionB = 4\n",
        "\n",
        "    next_stateA, next_stateB, reward, done1, done2 = env.step(actionA,actionB)\n",
        "\n",
        "    next_stateA = np.array(next_stateA)\n",
        "    next_stateB = np.array(next_stateB)\n",
        "\n",
        "    stateA = next_stateA\n",
        "    stateB = next_stateB\n",
        "\n",
        "    done = done1 and done2\n",
        "    \n",
        "    clear_output(wait=True)\n",
        "    env.render()\n",
        "    sleep(0.1) \n",
        "    \n",
        "    if done1 and done2:\n",
        "        break"
      ],
      "id": "a4f8566a"
    },
    {
      "cell_type": "markdown",
      "source": [
        "# Fully Cooperative"
      ],
      "metadata": {
        "id": "UYOW-Kbj3dQM"
      },
      "id": "UYOW-Kbj3dQM"
    },
    {
      "cell_type": "code",
      "source": [
        "class FC_agent:\n",
        "    def __init__(self, numStates1, numStates2, numActionsA=5, numActionsB=5, eps=1, gamma=0.95):\n",
        "        \n",
        "        self.eps = eps\n",
        "        self.gamma = gamma\n",
        "        self.alpha = 0.8\n",
        "        self.pi = np.ones((numStates1,numStates2, numActionsA)) / numActionsA\n",
        "        self.numActionsA = numActionsA\n",
        "        self.numActionsB = numActionsB\n",
        "        self. stationary_eps = eps\n",
        "    def chooseAction(self, state, agent, doneA,doneB,Q):\n",
        "        if agent == 'A' and doneB and not doneA:\n",
        "          action = self.select(state, agent, self.stationary_eps,Q)\n",
        "          return action\n",
        "        \n",
        "        elif agent == 'B' and doneA and not doneB:\n",
        "            action = self.select(state, agent, self.stationary_eps,Q)\n",
        "            return action\n",
        "        else:\n",
        "            action = self.select(state, agent, self.eps,Q)\n",
        "            return action\n",
        "    def updateQ(self, s, s_prime, actions, reward,Q):\n",
        "\n",
        "        actionA, actionB = actions\n",
        "        s1 = s[0]\n",
        "        s2 = s[1]\n",
        "        ns1 = s_prime[0]\n",
        "        ns2 = s_prime[1]\n",
        "        Q[s1, s2, actionA, actionB] = (1 - self.alpha) * Q[s1, s2, actionA, actionB] + \\\n",
        "            self.alpha * (reward + self.gamma * np.max(Q[ns1, ns2]))\n",
        "\n",
        "    def select(self, state, agent, eps,Q):\n",
        "      if np.random.rand() < eps:\n",
        "        action = np.random.randint(4)\n",
        "        return action\n",
        "      else:\n",
        "        s1 = state[0]\n",
        "        s2 = state[1]\n",
        "        if agent == 'A':\n",
        "            return np.unravel_index(np.argmax(Q[s1,s2]), Q[s1,s2].shape)[0]\n",
        "        if agent == 'B':\n",
        "            return np.unravel_index(np.argmax(Q[s1,s2]), Q[s1,s2].shape)[1]   "
      ],
      "metadata": {
        "id": "ycOaf08g3g09"
      },
      "id": "ycOaf08g3g09",
      "execution_count": 2,
      "outputs": []
    },
    {
      "cell_type": "code",
      "source": [
        "Q = np.zeros((7,10, 5, 5))\n",
        "\n",
        "env = MultiWindyGridWorldEnv()\n",
        "AgentA = FC_agent(numStates1 = 7, numStates2 = 10)\n",
        "AgentB = FC_agent(numStates1 = 7, numStates2 = 10)\n",
        "\n",
        "\n",
        "import copy\n",
        "Q_prime = copy.deepcopy(Q)\n",
        "n_episodes = 600\n",
        "Reward_FC = []\n",
        "for i_episode in range(1, n_episodes+1):\n",
        "\n",
        "    stateA, stateB = env.reset()\n",
        "    stateA = np.array(stateA)\n",
        "    stateB = np.array(stateB)\n",
        "    done = False\n",
        "    done1, done2 = False, False\n",
        "    R = 0\n",
        "    Q_temp = copy.deepcopy(Q)\n",
        "    while not done:\n",
        "        if not done1:\n",
        "            actionA = AgentA.chooseAction(stateA, 'A', done1, done2,Q)\n",
        "        elif done1: \n",
        "            actionA = 4\n",
        "\n",
        "        if not done2:\n",
        "            actionB = AgentB.chooseAction(stateB, 'B', done1, done2,Q)\n",
        "        elif done2: \n",
        "            actionB = 4\n",
        "\n",
        "        next_stateA, next_stateB, reward, done1, done2 = env.step(actionA,actionB)\n",
        "\n",
        "        next_stateA = np.array(next_stateA)\n",
        "        next_stateB = np.array(next_stateB)\n",
        "        \n",
        "        \n",
        "        if actionB != 4:\n",
        "            AgentB.updateQ(stateB, next_stateB, [np.random.randint(4), actionB], reward,Q)\n",
        "        if actionA != 4: \n",
        "            AgentA.updateQ(stateA, next_stateA, [actionA, np.random.randint(4)], reward,Q)\n",
        "            \n",
        "        stateA = next_stateA\n",
        "        stateB = next_stateB\n",
        "        \n",
        "        done = done1 and done2\n",
        "        R += reward\n",
        "    if Reward_FC:\n",
        "      if R >= max(Reward_FC) :\n",
        "        print(R)\n",
        "        Q_prime = copy.deepcopy(Q_temp)\n",
        "    \n",
        "    Reward_FC.append(R)\n",
        "    if AgentA.eps > 0.03:\n",
        "            AgentA.eps *= 0.998889\n",
        "    if AgentB.eps > 0.03:\n",
        "            AgentB.eps *= 0.998889\n",
        "            \n",
        "    if AgentA.stationary_eps > 0.03:\n",
        "            AgentA.stationary_eps *= 0.998889\n",
        "    if AgentB.stationary_eps > 0.03:\n",
        "            AgentB.stationary_eps *= 0.998889\n",
        "\n",
        "    AgentA.alpha *= 0.9989\n",
        "    AgentB.alpha *= 0.9989\n",
        "\n",
        "import matplotlib.pyplot as plt\n",
        "fig, ax = plt.subplots(1,1,figsize=(10, 6))\n",
        "\n",
        "ax.bar(np.arange(len(Reward_FC)), Reward_FC, label ='Fully Cooprative')\n",
        "ax.grid()\n",
        "ax.legend()"
      ],
      "metadata": {
        "colab": {
          "base_uri": "https://localhost:8080/",
          "height": 613
        },
        "id": "GfCGFMnS3hvE",
        "outputId": "cd8d149a-8ff5-48a1-ff79-a2e514b0c5f2"
      },
      "id": "GfCGFMnS3hvE",
      "execution_count": 34,
      "outputs": [
        {
          "output_type": "stream",
          "name": "stdout",
          "text": [
            "-2628.0\n",
            "-2344.0\n",
            "-2320.0\n",
            "-1623.0\n",
            "-841.5\n",
            "-489.0\n",
            "-411\n",
            "-258.0\n",
            "-173.0\n",
            "-78.5\n",
            "-72.5\n",
            "-69.0\n"
          ]
        },
        {
          "output_type": "execute_result",
          "data": {
            "text/plain": [
              "<matplotlib.legend.Legend at 0x7f5a708d2be0>"
            ]
          },
          "metadata": {},
          "execution_count": 34
        },
        {
          "output_type": "display_data",
          "data": {
            "text/plain": [
              "<Figure size 720x432 with 1 Axes>"
            ],
            "image/png": "[encoded data removed]"
          },
          "metadata": {
            "needs_background": "light"
          }
        }
      ]
    },
    {
      "cell_type": "code",
      "source": [
        "stateA, stateB = env.reset()\n",
        "stateA = np.array(stateA)\n",
        "stateB = np.array(stateB)\n",
        "done1, done2 = False, False\n",
        "r = 0\n",
        "while True: #epochs\n",
        "    if done1 == False:\n",
        "        actionA = AgentA.chooseAction(stateA, 'A', done1, done2,Q_prime)\n",
        "    else: \n",
        "        actionA = 4\n",
        "\n",
        "    if done2 == False:\n",
        "        actionB = AgentB.chooseAction(stateB, 'B', done1, done2,Q_prime)\n",
        "    else: \n",
        "        actionB = 4\n",
        "\n",
        "    next_stateA, next_stateB, reward, done1, done2 = env.step(actionA,actionB)\n",
        "\n",
        "    next_stateA = np.array(next_stateA)\n",
        "    next_stateB = np.array(next_stateB)\n",
        "\n",
        "    stateA = next_stateA\n",
        "    stateB = next_stateB\n",
        "\n",
        "    r += reward\n",
        "\n",
        "    done = done1 and done2\n",
        "    \n",
        "    clear_output(wait=True)\n",
        "    env.render()\n",
        "    sleep(0.1) \n",
        "    \n",
        "    if done1 and done2:\n",
        "      break"
      ],
      "metadata": {
        "colab": {
          "base_uri": "https://localhost:8080/"
        },
        "id": "jdxmEV_A3pEN",
        "outputId": "d2b30b0a-210a-432e-9813-10c971ed0cdb"
      },
      "id": "jdxmEV_A3pEN",
      "execution_count": 41,
      "outputs": [
        {
          "output_type": "stream",
          "name": "stdout",
          "text": [
            "############\n",
            "#          #\n",
            "#          #\n",
            "#          #\n",
            "#       A  #\n",
            "#          #\n",
            "#          #\n",
            "#          #\n",
            "############\n",
            "\n"
          ]
        }
      ]
    },
    {
      "cell_type": "markdown",
      "source": [
        "# Distributed Q-Lraning"
      ],
      "metadata": {
        "id": "l0SC8wUDVAHg"
      },
      "id": "l0SC8wUDVAHg"
    },
    {
      "cell_type": "code",
      "source": [
        "class DQL_agent:\n",
        "    def __init__(self, numStates1, numStates2, numActionsA=5, actions=None, eps=1, gamma=0.95):\n",
        "        \n",
        "        self.eps = eps\n",
        "        self.gamma = gamma\n",
        "        self.alpha = 0.8\n",
        "        self. stationary_eps = eps\n",
        "        self.pi = np.ones((numStates1,numStates2, numActionsA)) / numActionsA\n",
        "        \n",
        "        self.Q = np.zeros((numStates1,numStates2, numActionsA))\n",
        "        self.numActionsA = numActionsA\n",
        "        self.previous_action_id = None\n",
        "        self.actions = actions\n",
        "        \n",
        "    def act(self,state, agent, doneA,doneB):\n",
        "\n",
        "          action_id = self.chooseAction(state, agent, doneA,doneB)\n",
        "          self.previous_action_id = action_id\n",
        "          action = self.actions[action_id]\n",
        "          self.previous_action = action\n",
        "          return action\n",
        "    \n",
        "    def chooseAction(self, state, agent, doneA,doneB):\n",
        "       if agent == 'A' and doneB and not doneA:\n",
        "            action = self.select(state, self.stationary_eps)\n",
        "            return action\n",
        "        \n",
        "       elif agent == 'B' and doneA and not doneB:\n",
        "            action = self.select(state, self.stationary_eps)\n",
        "            return action\n",
        "       else:\n",
        "            action = self.select(state, self.eps)\n",
        "            return action\n",
        "    \n",
        "    def select(self, state, eps):\n",
        "        if np.random.rand() < eps:\n",
        "            action = np.random.randint(4)\n",
        "            return action\n",
        "        else:\n",
        "            s1 = state[0]\n",
        "            s2 = state[1]\n",
        "            return np.unravel_index(np.argmax(self.Q[s1,s2]), self.Q[s1,s2].shape)[0]\n",
        "\n",
        "    def learn(self, state, next_state, action, reward):\n",
        "        Actions = np.arange(self.numActionsA)\n",
        "        s1, s2 = state[0], state[1]\n",
        "        ns1, ns2 = next_state[0], next_state[1]\n",
        "        max_q = max([self.Q[ns1,ns2, action] for action in Actions])\n",
        "        q = reward + self.gamma*max_q\n",
        "        if q > self.Q[s1, s2, self.previous_action]:\n",
        "            self.Q[s1, s2, self.previous_action] = q\n",
        "        \n",
        "        action_argmax_pi = 0\n",
        "        max_pi_value = 0 \n",
        "        for action in np.arange(self.numActionsA):\n",
        "            if max_pi_value < self.pi[s1, s2, action]:\n",
        "                action_argmax_pi = action\n",
        "                max_pi_value  = self.pi[s1, s2, action]  \n",
        "        \n",
        "        max_q = max([self.Q[s1, s2, action] for action in Actions])\n",
        "        if self.Q[s1, s2, action_argmax_pi] != max_q:\n",
        "            actions_argmax_qs = [action for action in Actions if self.Q[s1, s2, action] == max_q]\n",
        "            actions_argmax_q = np.random.choice(actions_argmax_qs)\n",
        "            \n",
        "            for a, _ in enumerate(self.pi[s1, s2]):\n",
        "                if actions_argmax_q == a:\n",
        "                    self.pi[s1, s2, a] = 1\n",
        "                else:\n",
        "                    self.pi[s1, s2, a] = 0"
      ],
      "metadata": {
        "id": "kU5NnrvzSzd2"
      },
      "id": "kU5NnrvzSzd2",
      "execution_count": 3,
      "outputs": []
    },
    {
      "cell_type": "code",
      "source": [
        "Actions = np.arange(5)\n",
        "\n",
        "env = MultiWindyGridWorldEnv()\n",
        "stateA, stateB = env.reset()\n",
        "stateA = np.array(stateA)\n",
        "stateB = np.array(stateB)\n",
        "\n",
        "AgentA = DQL_agent(numStates1 = 7, numStates2 = 10, actions = Actions)\n",
        "AgentB = DQL_agent(numStates1 = 7, numStates2 = 10, actions = Actions)\n",
        "\n",
        "n_episodes = 100\n",
        "Reward_DQL = []\n",
        "\n",
        "for i_episode in range(1, n_episodes+1):\n",
        "    R = 0\n",
        "    stateA, stateB = env.reset()\n",
        "    stateA = np.array(stateA)\n",
        "    stateB = np.array(stateB)\n",
        "    done = False\n",
        "    done1, done2 = False, False\n",
        "    while not done:\n",
        "        if done1 == False:\n",
        "            actionA = AgentA.act(stateA,'A',done1,done2)\n",
        "        else: \n",
        "            actionA = 4\n",
        "        \n",
        "        if done2 == False:\n",
        "            actionB = AgentB.act(stateB,'B',done1,done2)\n",
        "        else: \n",
        "            actionB = 4\n",
        "            \n",
        "        next_stateA, next_stateB, reward, done1, done2 = env.step(actionA,actionB)\n",
        "        #reward += 10\n",
        "        R += reward\n",
        "\n",
        "        next_stateA = np.array(next_stateA)\n",
        "        next_stateB = np.array(next_stateB)\n",
        "        \n",
        "        if actionB != 4:\n",
        "            AgentB.learn(stateB, next_stateB, actionB, reward)\n",
        "        if actionA != 4: \n",
        "            AgentA.learn(stateA, next_stateA, actionA, reward)\n",
        "        stateA = next_stateA\n",
        "        stateB = next_stateB\n",
        "        \n",
        "        done = done1 and done2\n",
        "\n",
        "    if AgentA.eps > 0.05:\n",
        "            AgentA.eps *= 0.99\n",
        "    if AgentB.eps > 0.05:\n",
        "            AgentB.eps *= 0.99\n",
        "            \n",
        "    if AgentA.stationary_eps > 0.05:\n",
        "            AgentA.stationary_eps *= 0.99\n",
        "    if AgentB.stationary_eps > 0.05:\n",
        "            AgentB.stationary_eps *= 0.99\n",
        "\n",
        "    AgentA.alpha *= 0.999\n",
        "    AgentB.alpha *= 0.999\n",
        "\n",
        "    if i_episode % 100 == 0:\n",
        "      print(i_episode)\n",
        "\n",
        "    Reward_DQL.append(R)\n",
        "\n",
        "fig, ax = plt.subplots(1,1,figsize=(10, 6))\n",
        "ax.bar(np.arange(len(Reward_DQL)), Reward_DQL, label =' Distributed Q-Lraning')\n",
        "ax.grid()\n",
        "ax.legend()"
      ],
      "metadata": {
        "colab": {
          "base_uri": "https://localhost:8080/",
          "height": 414
        },
        "id": "3Ng5vONglauH",
        "outputId": "65e000d3-7a55-4ed7-dfb0-6786fd0e024b"
      },
      "id": "3Ng5vONglauH",
      "execution_count": 49,
      "outputs": [
        {
          "output_type": "stream",
          "name": "stdout",
          "text": [
            "100\n"
          ]
        },
        {
          "output_type": "execute_result",
          "data": {
            "text/plain": [
              "<matplotlib.legend.Legend at 0x7f5c0097aac0>"
            ]
          },
          "metadata": {},
          "execution_count": 49
        },
        {
          "output_type": "display_data",
          "data": {
            "text/plain": [
              "<Figure size 720x432 with 1 Axes>"
            ],
            "image/png": "[encoded data removed]"
          },
          "metadata": {
            "needs_background": "light"
          }
        }
      ]
    },
    {
      "cell_type": "code",
      "source": [
        "stateA, stateB = env.reset()\n",
        "stateA = np.array(stateA)\n",
        "stateB = np.array(stateB)\n",
        "done1, done2 = False, False\n",
        "r = 0\n",
        "while True: #epochs\n",
        "    if done1 == False:\n",
        "        actionA = AgentA.chooseAction(stateA, 'A', done1, done2)\n",
        "    else: \n",
        "        actionA = 4\n",
        "\n",
        "    if done2 == False:\n",
        "        actionB = AgentB.chooseAction(stateB, 'B', done1, done2)\n",
        "    else: \n",
        "        actionB = 4\n",
        "\n",
        "    next_stateA, next_stateB, reward, done1, done2 = env.step(actionA,actionB)\n",
        "    r += reward\n",
        "    next_stateA = np.array(next_stateA)\n",
        "    next_stateB = np.array(next_stateB)\n",
        "\n",
        "    stateA = next_stateA\n",
        "    stateB = next_stateB\n",
        "\n",
        "    done = done1 and done2\n",
        "    \n",
        "    clear_output(wait=True)\n",
        "    env.render()\n",
        "    sleep(0.1) \n",
        "    \n",
        "    if done1 and done2:\n",
        "        break\n"
      ],
      "metadata": {
        "colab": {
          "base_uri": "https://localhost:8080/"
        },
        "id": "ofFSTbokQaDE",
        "outputId": "833fb337-85b6-4ea5-9dcf-c823a6f21d58"
      },
      "id": "ofFSTbokQaDE",
      "execution_count": 54,
      "outputs": [
        {
          "output_type": "stream",
          "name": "stdout",
          "text": [
            "############\n",
            "#          #\n",
            "#          #\n",
            "#          #\n",
            "#       A  #\n",
            "#          #\n",
            "#          #\n",
            "#          #\n",
            "############\n",
            "\n"
          ]
        }
      ]
    }
  ],
  "metadata": {
    "accelerator": "GPU",
    "colab": {
      "provenance": []
    },
    "gpuClass": "standard",
    "kernelspec": {
      "display_name": "Python 3 (ipykernel)",
      "language": "python",
      "name": "python3"
    },
    "language_info": {
      "codemirror_mode": {
        "name": "ipython",
        "version": 3
      },
      "file_extension": ".py",
      "mimetype": "text/x-python",
      "name": "python",
      "nbconvert_exporter": "python",
      "pygments_lexer": "ipython3",
      "version": "3.8.8"
    }
  },
  "nbformat": 4,
  "nbformat_minor": 5
}